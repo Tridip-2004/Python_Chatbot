{
  "nbformat": 4,
  "nbformat_minor": 0,
  "metadata": {
    "colab": {
      "provenance": []
    },
    "kernelspec": {
      "name": "python3",
      "display_name": "Python 3"
    },
    "language_info": {
      "name": "python"
    }
  },
  "cells": [
    {
      "cell_type": "code",
      "execution_count": null,
      "metadata": {
        "id": "Jvc5G7EPDeXa"
      },
      "outputs": [],
      "source": [
        "from langgraph.graph import StateGraph, START, END\n",
        "from typing import TypedDict, Annotated\n",
        "from langchain_core.messages import BaseMessage\n",
        "from langchain_groq import ChatGroq\n",
        "from langgraph.checkpoint.memory import InMemorySaver\n",
        "from langgraph.graph.message import add_messages\n",
        "from dotenv import load_dotenv\n",
        "import os\n",
        "\n",
        "# Load environment variables\n",
        "load_dotenv()\n",
        "groq_api_key = os.getenv(\"gsk_YSslx8YUsEugSSbsXjGQWGdyb3FYdYgbbCYxVl6mHWtPSE7kcpTFyzi\")\n",
        "\n",
        "# Initialize LLM (Groq)\n",
        "llm = ChatGroq(api_key=groq_api_key, model=\"llama3-8b-8192\")\n",
        "\n",
        "# Define State\n",
        "class ChatState(TypedDict):\n",
        "    messages: Annotated[list[BaseMessage], add_messages]\n",
        "\n",
        "# Define Node\n",
        "def chat_node(state: ChatState):\n",
        "    messages = state[\"messages\"]\n",
        "    response = llm.invoke(messages)\n",
        "    return {\"messages\": [response]}\n",
        "\n",
        "# Setup Checkpointer\n",
        "checkpointer = InMemorySaver()\n",
        "\n",
        "# Define Graph\n",
        "graph = StateGraph(ChatState)\n",
        "graph.add_node(\"chat_node\", chat_node)\n",
        "graph.add_edge(START, \"chat_node\")\n",
        "graph.add_edge(\"chat_node\", END)\n",
        "\n",
        "# Compile Chatbot\n",
        "chatbot = graph.compile(checkpointer=checkpointer)"
      ]
    }
  ]
}